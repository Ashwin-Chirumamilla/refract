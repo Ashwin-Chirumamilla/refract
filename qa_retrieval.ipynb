{
 "cells": [
  {
   "cell_type": "code",
   "execution_count": 39,
   "id": "6ea2d346",
   "metadata": {},
   "outputs": [],
   "source": [
    "import os\n",
    "import numpy as np\n",
    "import pandas as pd\n",
    "import torch\n",
    "import torch.nn.functional as F\n",
    "from torch.utils.data import Dataset, DataLoader, RandomSampler, SequentialSampler\n",
    "\n",
    "from transformers import T5Tokenizer, T5ForConditionalGeneration\n",
    "from transformers import pipeline"
   ]
  },
  {
   "cell_type": "code",
   "execution_count": 10,
   "id": "afd538ca",
   "metadata": {},
   "outputs": [],
   "source": [
    "from torch import cuda"
   ]
  },
  {
   "cell_type": "code",
   "execution_count": 33,
   "id": "43190a29",
   "metadata": {},
   "outputs": [],
   "source": [
    "device = 'cuda' if cuda.is_available() else 'cpu'\n",
    "LEARNING_RATE = 0.001"
   ]
  },
  {
   "cell_type": "code",
   "execution_count": 12,
   "id": "31e09f34",
   "metadata": {},
   "outputs": [
    {
     "data": {
      "text/plain": [
       "'cpu'"
      ]
     },
     "execution_count": 12,
     "metadata": {},
     "output_type": "execute_result"
    }
   ],
   "source": [
    "device"
   ]
  },
  {
   "cell_type": "code",
   "execution_count": 13,
   "id": "6a3a07ed",
   "metadata": {},
   "outputs": [],
   "source": [
    "def QARetrieval(Dataset):\n",
    "    def __init__(self, dataframe, tokenizer, source_len, summ_len):\n",
    "        self.data = dataframe\n",
    "        self.tokenizer = tokenizer\n",
    "        self.source_len = source_len\n",
    "        self.summ_len = summ_len\n",
    "        self.text = self.data[output_col_name]\n",
    "        self.ctext = self.data[context_col_name]\n",
    "        \n",
    "    def __len__(self):\n",
    "        return len(self.text)\n",
    "    \n",
    "    def __getitem__(self, index):\n",
    "        ctext = str(self.ctext[index])\n",
    "        ctext = ' '.join(ctext.split())\n",
    "        \n",
    "        text = str(self.text[index])\n",
    "        text = ' '.join(text.split())\n",
    "        \n",
    "        source = self.tokenizer.batch_encode_plus([ctext], max_length=self.source_len, pad_to_max_length=True, return_tensors='pt')\n",
    "        target = self.tokenizer.batch_encode_plus([text], max_length=self.summ_len, pad_to_max_length=True, return_tensors='pt')\n",
    "        \n",
    "        source_ids = source['input_ids'].squeeze()\n",
    "        source_mask = source['attention_mask'].squeeze()\n",
    "        target_ids = target['input_ids'].squeeze()\n",
    "        target_mask = target['attention_mask'].squeeze()\n",
    "        \n",
    "        return {\n",
    "            'source_ids': source_ids.to(dtype=torch.long),\n",
    "            'source_mask': source_mask.to(dtype=torch.long),\n",
    "            'target_ids': target_ids.to(dtype=torch.long),\n",
    "            'target_ids_y': target_ids.to(dtype=torch.long)\n",
    "        }\n",
    "        \n",
    "        "
   ]
  },
  {
   "cell_type": "code",
   "execution_count": 18,
   "id": "76983b35",
   "metadata": {},
   "outputs": [],
   "source": [
    "def train(epoch, tokenizer, model,  device, loader, optimizer):\n",
    "    model.train()\n",
    "    for index, data in enumerate(loader, 0):\n",
    "        y = data['target_ids'].to(device, type = torch.long)\n",
    "        y_ids = y[l:, : - 1].contiguous()\n",
    "        lm_labels = y[:, 1:].clone().detach()\n",
    "        lm_labels[y[:, 1:] == tokenizer.pad_token_id] = -100\n",
    "        ids = data['source_ids'].to(device, type = torch.long)\n",
    "        mask = data['source_mask'].to(device, dtype = torch.long)\n",
    "        loss = model(input_ids = ids, attention_mask = mask, decoder_input_ids=y_ids, labels = lm_labels)[0]\n",
    "        if index%10 == 0:\n",
    "            print({\"Training Loss\": loss.item(), \"Time Check\":str(datetime.now())})\n",
    "        elif index%500 == 0:\n",
    "            print(f'Epoch: {epoch}, Loss: {loss.item()}')\n",
    "        optimizer.zero_grad()\n",
    "        loss.backward()\n",
    "        optimizer.step()"
   ]
  },
  {
   "cell_type": "code",
   "execution_count": 22,
   "id": "a25ae11e",
   "metadata": {},
   "outputs": [],
   "source": [
    "def validate(epoch, tokenizer, model, device, loader):\n",
    "    model.eval()\n",
    "    predictions = []\n",
    "    actuals = []\n",
    "    \n",
    "    with torch.no_grad():\n",
    "        for index, data in enumerate(loader, 0):\n",
    "            y = data['target_ids'].to(device, dtype = torch.long)\n",
    "            ids = data['source_ids'].to(device, dtype = torch.long)\n",
    "            mask = data['source _mask'].to(device, dtype = torch.long)\n",
    "            \n",
    "            generated_ids = model.generate(\n",
    "                input_ids = ids,\n",
    "                attention_mask = mask,\n",
    "                max_length=150,\n",
    "                num_beams=2,\n",
    "                repetition_penalty= 2.5,\n",
    "                length_penalty=1.0,\n",
    "                early_stopping=True\n",
    "            )\n",
    "            preds = [tokenizer.decode(g, skip_special_tokens=True, clean_up_tokenization_spaces=True) for g in generated_ids]\n",
    "            if index%100==0:\n",
    "                print (f'Completed {index}')\n",
    "            predictions.extend(preds)\n",
    "            actuals.extend(target)\n",
    "    return predictions, actuals"
   ]
  },
  {
   "cell_type": "code",
   "execution_count": 27,
   "id": "47e3f8a6",
   "metadata": {},
   "outputs": [
    {
     "data": {
      "application/vnd.jupyter.widget-view+json": {
       "model_id": "515077900bc04bb192020fb1c1b75af5",
       "version_major": 2,
       "version_minor": 0
      },
      "text/plain": [
       "Downloading:   0%|          | 0.00/1.21k [00:00<?, ?B/s]"
      ]
     },
     "metadata": {},
     "output_type": "display_data"
    },
    {
     "data": {
      "application/vnd.jupyter.widget-view+json": {
       "model_id": "53ae07a9e8e344a38863d081e7a37fe4",
       "version_major": 2,
       "version_minor": 0
      },
      "text/plain": [
       "Downloading:   0%|          | 0.00/892M [00:00<?, ?B/s]"
      ]
     },
     "metadata": {},
     "output_type": "display_data"
    }
   ],
   "source": [
    "model = transformers.AutoModelForCausalLM.from_pretrained(\n",
    "  'mosaicml/mpt-7b-instruct',\n",
    "  trust_remote_code=True\n",
    ")"
   ]
  },
  {
   "cell_type": "code",
   "execution_count": 28,
   "id": "075f5d3b",
   "metadata": {},
   "outputs": [],
   "source": [
    "model = model.to(device)"
   ]
  },
  {
   "cell_type": "code",
   "execution_count": 34,
   "id": "89ce9fb5",
   "metadata": {},
   "outputs": [],
   "source": [
    "optimizer = torch.optim.Adam(params = model.parameters(), lr = LEARNING_RATE)"
   ]
  },
  {
   "cell_type": "code",
   "execution_count": 37,
   "id": "9e79dd3c",
   "metadata": {},
   "outputs": [
    {
     "ename": "NameError",
     "evalue": "name 'train_dataset' is not defined",
     "output_type": "error",
     "traceback": [
      "\u001b[0;31m---------------------------------------------------------------------------\u001b[0m",
      "\u001b[0;31mNameError\u001b[0m                                 Traceback (most recent call last)",
      "\u001b[0;32m<ipython-input-37-4c546df78c5d>\u001b[0m in \u001b[0;36m<module>\u001b[0;34m\u001b[0m\n\u001b[0;32m----> 1\u001b[0;31m \u001b[0mtraining_set\u001b[0m \u001b[0;34m=\u001b[0m \u001b[0mQARetrieval\u001b[0m\u001b[0;34m(\u001b[0m\u001b[0mtrain_dataset\u001b[0m\u001b[0;34m,\u001b[0m \u001b[0mtokenizer\u001b[0m\u001b[0;34m,\u001b[0m \u001b[0mMAX_LEN\u001b[0m\u001b[0;34m,\u001b[0m \u001b[0mSUMMARY_LEN\u001b[0m\u001b[0;34m)\u001b[0m\u001b[0;34m\u001b[0m\u001b[0;34m\u001b[0m\u001b[0m\n\u001b[0m",
      "\u001b[0;31mNameError\u001b[0m: name 'train_dataset' is not defined"
     ]
    }
   ],
   "source": [
    "training_set = QARetrieval(train_dataset, tokenizer, MAX_LEN, SUMMARY_LEN)"
   ]
  },
  {
   "cell_type": "code",
   "execution_count": 8,
   "id": "36ca3545",
   "metadata": {},
   "outputs": [],
   "source": [
    "from transformers import pipeline"
   ]
  },
  {
   "cell_type": "code",
   "execution_count": 9,
   "id": "d415a63f",
   "metadata": {},
   "outputs": [
    {
     "data": {
      "application/vnd.jupyter.widget-view+json": {
       "model_id": "0ca87de6073f40c5afeac5dbf40a2f0e",
       "version_major": 2,
       "version_minor": 0
      },
      "text/plain": [
       "Downloading:   0%|          | 0.00/451 [00:00<?, ?B/s]"
      ]
     },
     "metadata": {},
     "output_type": "display_data"
    },
    {
     "data": {
      "application/vnd.jupyter.widget-view+json": {
       "model_id": "e990705bc75d4e38996544e91ae92eeb",
       "version_major": 2,
       "version_minor": 0
      },
      "text/plain": [
       "Downloading:   0%|          | 0.00/265M [00:00<?, ?B/s]"
      ]
     },
     "metadata": {},
     "output_type": "display_data"
    },
    {
     "data": {
      "application/vnd.jupyter.widget-view+json": {
       "model_id": "1fddcf68218f456794b3c4ddb9cfa53e",
       "version_major": 2,
       "version_minor": 0
      },
      "text/plain": [
       "Downloading:   0%|          | 0.00/28.0 [00:00<?, ?B/s]"
      ]
     },
     "metadata": {},
     "output_type": "display_data"
    },
    {
     "data": {
      "application/vnd.jupyter.widget-view+json": {
       "model_id": "c6f536dbb2e74463a402af8f928bcacb",
       "version_major": 2,
       "version_minor": 0
      },
      "text/plain": [
       "Downloading:   0%|          | 0.00/232k [00:00<?, ?B/s]"
      ]
     },
     "metadata": {},
     "output_type": "display_data"
    },
    {
     "data": {
      "application/vnd.jupyter.widget-view+json": {
       "model_id": "9dca13cbd18344b7b48bb611acae173b",
       "version_major": 2,
       "version_minor": 0
      },
      "text/plain": [
       "Downloading:   0%|          | 0.00/466k [00:00<?, ?B/s]"
      ]
     },
     "metadata": {},
     "output_type": "display_data"
    }
   ],
   "source": [
    "model_name = \"distilbert-base-uncased-distilled-squad\"\n",
    "qa_pipeline = pipeline(\"question-answering\", model=model_name, tokenizer=model_name)\n"
   ]
  },
  {
   "cell_type": "code",
   "execution_count": 1,
   "id": "8d32af04",
   "metadata": {},
   "outputs": [
    {
     "ename": "NameError",
     "evalue": "name 'qa_pipeline' is not defined",
     "output_type": "error",
     "traceback": [
      "\u001b[0;31m---------------------------------------------------------------------------\u001b[0m",
      "\u001b[0;31mNameError\u001b[0m                                 Traceback (most recent call last)",
      "\u001b[0;32m<ipython-input-1-db3f04f37ae3>\u001b[0m in \u001b[0;36m<module>\u001b[0;34m\u001b[0m\n\u001b[1;32m      7\u001b[0m \u001b[0;34m\u001b[0m\u001b[0m\n\u001b[1;32m      8\u001b[0m \u001b[0;31m# Perform question answering on the article\u001b[0m\u001b[0;34m\u001b[0m\u001b[0;34m\u001b[0m\u001b[0;34m\u001b[0m\u001b[0m\n\u001b[0;32m----> 9\u001b[0;31m result = qa_pipeline({\n\u001b[0m\u001b[1;32m     10\u001b[0m     \u001b[0;34m\"context\"\u001b[0m\u001b[0;34m:\u001b[0m \u001b[0marticle_content\u001b[0m\u001b[0;34m,\u001b[0m\u001b[0;34m\u001b[0m\u001b[0;34m\u001b[0m\u001b[0m\n\u001b[1;32m     11\u001b[0m     \u001b[0;34m\"question\"\u001b[0m\u001b[0;34m:\u001b[0m \u001b[0mquestion\u001b[0m\u001b[0;34m\u001b[0m\u001b[0;34m\u001b[0m\u001b[0m\n",
      "\u001b[0;31mNameError\u001b[0m: name 'qa_pipeline' is not defined"
     ]
    }
   ],
   "source": []
  },
  {
   "cell_type": "code",
   "execution_count": 10,
   "id": "39f88538",
   "metadata": {},
   "outputs": [
    {
     "name": "stdout",
     "output_type": "stream",
     "text": [
      "Article Content:\n",
      "New claims of “inappropriate behaviour” were made against the BBC newsreader Huw Edwards by staff at the broadcaster last night after his wife named him as the presenter at the centre of the explicit pictures scandal.\n",
      "\n",
      "Two BBC staff and one former employee told BBC News that they had received what they thought were “inappropriate messages” on social media from the News At Ten anchor.\n",
      "\n",
      "Edwards is receiving in-patient hospital care for his mental health after a “serious episode” exacerbated by the events of the past few days, Vicky Flind, his wife, has said.\n",
      "\n",
      "One BBC employee said that they received “suggestive” messages this year from Edwards, 61, that made them feel uncomfortable and awkward.\n",
      "\n",
      "The employee highlighted a power dynamic that made the messages “inappropriate” and called for managers to examine relationship dynamics between presenters and junior staff, something they felt had been ignored, BBC News At 10 reported.\n",
      "\n",
      "Advertisement\n",
      "\n",
      "The broadcaster said that it had seen the messages, which referred to the staff member’s appearance and “appear to be flirtatious”.\n",
      "\n",
      "BBC Newsnight spoke to the other two employees who say they received inappropriate messages from Edwards. The former employee said they had never met Edwards but had received late-night messages with kisses. They told the programme they believed it was an “abuse of power”.\n",
      "\n",
      "Huw Edwards‘ biggest stories\n",
      "\n",
      "The other employee said they had received messages about their physical appearance, which had given them a “cold shudder”. All three employees mentioned junior staff feeling reluctant to raise their concerns about senior colleagues in case it affected their careers, Newsnight said.\n",
      "\n",
      "A BBC spokesman told The Times: “We always treat the concerns of staff with care, and would always urge any staff members to speak to us if they have any concerns. We have clear processes for making complaints within the organisation, including whistleblowing procedures should someone wish to do so anonymously.”\n",
      "\n",
      "Sponsored\n",
      "\n",
      "Edwards was identified yesterday as the presenter accused of paying £35,000 to a vulnerable youngster since they were 17 years old.\n",
      "\n",
      "Five days after the allegations came to light, the Metropolitan Police said it had found no evidence of a criminal offence involving the presenter. It followed a three-day scoping exercise by the force and South Wales police. They spoke to the BBC, the youngster and their family, who have not been identified. Edwards was named by Flind, a television producer, in a 200-word statement shortly before 6pm yesterday after what she described as “five extremely difficult days for our family”.\n",
      "\n",
      "She said that her husband, who has previously struggled with his mental health, had suffered a “serious episode” exacerbated by the events of the past few days. “Huw is suffering from serious mental health issues. As is well documented, he has been treated for severe depression in recent years,” she said. “The events of the last few days have greatly worsened matters. He has suffered another serious episode and is now receiving in-patient hospital care, where he’ll stay for the foreseeable future. Once well enough to do so, he intends to respond to the stories that have been published.”\n",
      "\n",
      "The Met said that it had no grounds to conduct an investigation, adding: “Should evidence of criminality or safeguarding issues be identified at any point we would expect matters to be referred to the relevant police force.”\n",
      "\n",
      "Advertisement\n",
      "\n",
      "Its decision came after the youngster said that “nothing unlawful” had taken place, denying allegations reported in The Sun on Saturday. The newspaper, which is owned by News UK, the parent company of The Times, has stood by its reporting.\n",
      "\n",
      "Three more allegations were later made against Edwards. A second young person told the BBC they felt threatened by the presenter after making contact via a dating app. The individual claimed that Edwards subjected them to abusive expletives when they suggested they might expose him online.\n",
      "\n",
      "The Sun then reported claims by a third young person that Edwards allegedly broke lockdown rules to meet them. A fourth anonymous person, also reported by The Sun, suggested that they were contacted by Edwards on Instagram when aged 17. He was said to have sent love hearts and “x” kisses.\n",
      "\n",
      "The Sun said it had no plans to publish further allegations about Edwards and would co-operate with the BBC’s internal investigation. The BBC, which had paused its internal inquiry pending the outcome of the police investigation, will resume its scrutiny of one of its highest-paid employees.\n",
      "\n",
      "Tim Davie, the BBC director-general, revealed that Edwards had been suspended on Sunday. A spokesman declined to comment whether that continued to be the case.\n",
      "\n",
      "Although it was known among BBC staff that Edwards was the subject of the allegations, they learnt about the mental toll on him from the broadcaster’s 6pm bulletin, read by Sophie Raworth, as they gathered round the screens at New Broadcasting House. One senior BBC News figure said: “There was a huge amount of shock that after so many days it all happened so suddenly.”\n",
      "\n",
      "Simpson, a former BBC world affairs editor, called for an end to the coverage. “I feel so sorry for everyone involved in this ... no criminal offences were committed, so it’s a purely personal tragedy for everyone involved.”\n",
      "\n",
      "Advertisement\n",
      "\n",
      "A spokesman for The Sun said: “We must also re-emphasise that The Sun at no point in our original story alleged criminality and also took the decision neither to name Mr Edwards nor the young person involved in the allegations. Suggestions about possible criminality were first made at a later date by other media outlets, including the BBC.\n",
      "\n",
      "“From the outset, we have reported a story about two very concerned and frustrated parents who made a complaint to the BBC about the behaviour of a presenter and payments from him that fuelled the drug habit of a young person.”\n",
      "\n",
      "Edwards is the BBC’s highest-paid newsreader, with remuneration of between £435,000 and £439,999.\n",
      "\n",
      "Huw Edwards announced the death of the Queen last year PIXEL GRG\n",
      "\n",
      "Fresh allegations have emerged regarding “inappropriate behaviour” from the BBC newsreader Huw Edwards towards the broadcaster’s staff. Earlier today his wife named him as the presenter at the centre of allegations about paying a young person who sent him explicit pictures.\n",
      "\n",
      "A BBC employee told BBC News that they had received “suggestive” messages from Edwards this year that made them feel uncomfortable.\n",
      "\n",
      "The employee highlighted a power dynamic which made the messages “inappropriate” and called for managers to examine relationship dynamics between presenters and junior staff, BBC News reported.\n",
      "\n",
      "The public service broadcaster said that it had seen the messages and they referred to the staff member’s appearance.\n",
      "\n",
      "Advertisement\n",
      "\n",
      "In a separate claim, BBC Newsnight has also spoken to one present and one former BBC worker who said they had also received inappropriate messages from Edwards, some of which were sent late at night and with kisses.\n",
      "\n",
      "One of them said that it was an “abuse of power”, BBC Newsnight said.\n",
      "\n",
      "All three people mentioned junior staff feeling reluctant to mention their concerns about senior colleagues in case it affected their careers, Newsnight said.\n",
      "\n",
      "A BBC spokesman told The Times: “We are communicating with staff and will continue to do so. We always treat the concerns of staff with care, and would always urge any staff members to speak to us if they have any concerns. We have clear processes for making complaints within the organisation, including whistleblowing procedures should someone wish to do so anonymously.”\n",
      "\n",
      "Vicky Flind, Edwards’s wife, named him in a statement issued on his behalf. She said that the newsreader, 61, was “suffering from serious mental health issues” and is now “receiving inpatient hospital care where he will stay for the foreseeable future” as she asked for privacy for her family.\n",
      "\n",
      "The Met Police have ruled out an investigation after a three-day scoping inquiry found that there was no evidence a criminal offence had taken place.\n",
      "\n",
      "It said that it had spoken to a number of parties including the BBC, the alleged complainant and their family, via another police force.\n",
      "\n",
      "The decision came after the youngster said that “nothing unlawful” had taken place following allegations in The Sun that they had received £35,000 for sharing explicit images since they were 17 years old.\n",
      "\n",
      "A BBC spokesman said: “We have seen the statement from the police confirming they have completed their assessment and are not taking further action. We’re grateful to them for completing this work at speed.\n",
      "\n",
      "“The police had previously asked us to pause our fact-finding investigations and we will now move forward with that work, ensuring due process and a thorough assessment of the facts, whilst continuing to be mindful of our duty of care to all involved.”\n",
      "\n",
      "Edwards announced the Queen’s death on the BBC last year and led the broadcaster’s coverage of her funeral and Charles’s coronation. He was suspended by the BBC on Sunday.\n",
      "\n",
      "BBC director-general: ‘Our first concern is duty of care’\n",
      "\n",
      "Tim Davie, the director-general of the BBC, pictured arriving at work earlier today. He has called the past few days “challenging” DAILY MIRROR\n",
      "\n",
      "Tim Davie, the BBC’s director-general, reassured staff that “our immediate concern is our duty of care to all involved”.\n",
      "\n",
      "In a note sent to staff, he acknowledged that it will “no doubt be a difficult time for many after a challenging few days”.\n",
      "\n",
      "He wrote: “Many of you will have read the words of Vicky Flind, Huw’s wife. It is a reminder that the last few days have seen personal lives played out in public. At the heart of this are people and their families.”\n",
      "\n",
      "Following the confirmation from the Met Police and South Wales police that they will not take further action, Davie said that the BBC’s internal investigation would continue.\n",
      "\n",
      "He said: “As you know, we were asked to pause our fact-finding investigations until that assessment had been concluded. It is important we now continue with this work. I want to be clear that in doing so we will follow due process.\n",
      "\n",
      "“This remains a very complex set of circumstances. As we have done throughout, our aim must be to navigate through this with care and consideration, in line with the BBC values.”\n",
      "\n",
      "PM refuses to comment on allegations\n",
      "\n",
      "Rishi Sunak and Lucy Frazer, the culture secretary, have refused to comment on the allegations against Huw Edwards. Spokesmen for both said that it was a matter for the BBC (Seren Hughes writes).\n",
      "\n",
      "On Saturday Frazer said that she had spoken to Tim Davie, the director-general of the BBC, about the “deeply concerning allegations”.\n",
      "\n",
      "No 10 said on Monday that she would keep a “close watch” on the handling of the claims.\n",
      "\n",
      "The prime minister also addressed the situation yesterday, when he described the allegations as “shocking” and “concerning”.\n",
      "\n",
      "“The culture secretary spoke to the director-general . . . he has reassured us that the process they are undertaking is vigorous and will be swift, so we’ve had those reassurances,” he said yesterday.\n",
      "\n",
      "Alastair Campbell joins calls for privacy\n",
      "\n",
      "Alastair Campbell said that Huw Edwards had a long history of depression DOMINIC LIPINSKI/PA\n",
      "\n",
      "Alastair Campbell, Tony Blair’s former director of communications who spoke to Huw Edwards about his mental health for Men’s Health last year, joined those asking for the privacy of the presenter and his family to be respected.\n",
      "\n",
      "The Rest Is Politics podcaster wrote on Twitter: “I hope that Huw and his family are given the privacy they need and to which they are entitled. And the same goes for all others involved in this story. I hope he is getting good care and wish it was available to all who struggle with their mental health.”\n",
      "\n",
      "He added that he knows “absolutely nothing about the events that have led to the statement by Edwards’ wife. But I do know that he is a superb broadcaster.\n",
      "\n",
      "“I know too that he has a long history of depression. He and I have spoken about it often.”\n",
      "\n",
      "Campbell continued: “Precisely because he is both well known and well liked he is the perfect target for those who would undermine and indeed would like to destroy the BBC. Nobody should help them.\n",
      "\n",
      "“The police, having said no action to be taken, whatever he did or did not do is a matter for him and his family, and for the BBC. The obsession with this story has been a further sign of a media that has frankly become weird.”\n",
      "\n",
      "The Sun ‘will not publish further allegations’\n",
      "\n",
      "The Sun has no plans to publish further allegations about Huw Edwards and will cooperate with the BBC’s internal investigation process, a spokesman for the newspaper said (Seren Hughes writes).\n",
      "\n",
      "The spokesman said that the allegations published by the newspaper were “always very serious”. They emphasised that “at no point in our original story” did The Sun allege criminality and that “suggestions about possible criminality were first made at a later date by other media outlets, including the BBC”.\n",
      "\n",
      "They added: “From the outset, we have reported a story about two very concerned and frustrated parents who made a complaint to the BBC about the behaviour of a presenter and payments from him that fuelled the drug habit of a young person.\n",
      "\n",
      "“We reported that the parents had already been to the police who said that they couldn’t help. The parents then made a complaint to the BBC which was not acted upon. It is now for the BBC to properly investigate.”\n",
      "\n",
      "The Sun will provide the BBC team with “a confidential and redacted dossier containing serious and wide-ranging allegations which we have received, including some from BBC personnel”, the spokesman added.\n",
      "\n",
      "The Sun is owned by News UK, the parent company of The Times.\n",
      "\n",
      "’The Huw Edwards I know — and saw last week’\n",
      "\n",
      "Huw Edwards is facing allegations that he paid a youngster for explicit photographs\n",
      "\n",
      "I’ve met the BBC presenter several times professionally and socially. The allegations flew against everything I was convinced I knew about him (Andrew Billen writes).\n",
      "\n",
      "A year ago, Huw Edwards’s future at the BBC looked uncertain. About to turn 61, he had been the main anchor of its News at Ten since 2003, already an eternity in television terms. And now there were other stars in the firmament, not least Clive Myrie, who had distinguished himself in the early months of the Ukraine war, although Myrie himself insisted he preferred a life divided between the studio and the road. There was speculation that the BBC’s top executives — known in W1A as the Time Lords — were pondering change. As Edwards told me when I interviewed him in the summer of 2020, the BBC “can be a treacherous place to be sometimes”.\n",
      "\n",
      "Read the full article\n",
      "\n",
      "Situation is ‘personal tragedy for everyone involved’\n",
      "\n",
      "The BBC is carrying on with an internal investigation after the Met Police said no criminal offences were committed BEN EVANS/HUW EVANS/SHUTTERSTOCK\n",
      "\n",
      "More present and former BBC colleagues have expressed sympathy for Edwards and his family (Seren Hughes writes).\n",
      "\n",
      "John Simpson, the BBC’s world affairs editor, said that the situation was a “purely personal tragedy for everyone involved”.\n",
      "\n",
      "He wrote on Twitter: “I feel so sorry for everyone involved in this: for the Edwards family, for the complainants, and for Huw himself. No criminal offences were committed, so it’s a purely personal tragedy for everyone involved. Let’s hope the press leave them all alone now.”\n",
      "\n",
      "The former BBC editor Tim Luckhurst told Sky News that Edwards was “one of the kindest, most reliable, most inspirational colleagues I have ever had the pleasure to work with”. He said that the latest news about Edwards was “truly upsetting”.\n",
      "\n",
      "He added: “There have always been two sides to this story. We’ve seen one side courtesy of The Sun — and I make no criticism of The Sun for its reporting, which has genuinely set the agenda — but we haven’t heard Huw Edwards’s side of the story.\n",
      "\n",
      "“Given Huw Edwards is in hospital and his family want peace, I suspect we’re going to wait some time to hear that, but hopefully the BBC will get to the bottom of this, and will get to the bottom of it with rigour and a degree of speed, that would be truly helpful.”\n",
      "\n",
      "Drop inquiry as a duty of care, BBC urged\n",
      "\n",
      "Harvey Proctor, a former Conservative MP who was wrongly accused of allegations of historical child sexual abuse, has called for the BBC to close its internal investigation as a “duty of care” to the presenter (Seren Hughes writes).\n",
      "\n",
      "He told Sky News: “This is an innocent man falsely accused of a number of things.\n",
      "\n",
      "“Let’s all concentrate on making sure that our love and care and affection is for the man, his wife, his family and his children, nothing else. I know because I’ve been through it.”\n",
      "\n",
      "He also accused Edwards’ BBC colleagues of “stoking up” the situation.\n",
      "\n",
      "Broadcaster to continue investigation\n",
      "\n",
      "Huw Edwards has been suspended by the BBC\n",
      "\n",
      "The BBC will “move forward” with their internal investigation now that the Met Police has said that it will take no further action (Seren Hughes writes).\n",
      "\n",
      "A spokesman for the corporation said that they will ensure “due process and a thorough assessment of the facts” while continuing to be “mindful of our duty of care to all involved”.\n",
      "\n",
      "They said: “We have seen the statement from the police confirming they have completed their assessment and are not taking further action. We’re grateful to them for completing this work at speed.\n",
      "\n",
      "“The police had previously asked us to pause our fact-finding investigations and we will now move forward with that work, ensuring due process and a thorough assessment of the facts, while continuing to be mindful of our duty of care to all involved.”\n",
      "\n",
      "Edwards has not resigned from the BBC\n",
      "\n",
      "Huw Edwards on June 17, three weeks before the claims emerged SPLASH NEWS\n",
      "\n",
      "After the presenter was named by his wife, the BBC initially reported that Edwards had resigned. It has since said this is not the case.\n",
      "\n",
      "Edwards was suspended by the BBC on Sunday.\n",
      "\n",
      "South Wales police said in a statement: “South Wales police has remained in contact with representatives of the Metropolitan Police and the BBC following a meeting on Monday.\n",
      "\n",
      "“Information was initially received by the force in April 2023 regarding the welfare of an adult. No criminality was identified.\n",
      "\n",
      "“Following recent events, further enquiries have been carried out and officers have spoken to a number of parties to establish whether any criminal allegations are being made.\n",
      "\n",
      "“At this time, there is no evidence that any criminal offences have been committed. There are no ongoing inquiries being carried out by South Wales police.\n",
      "\n",
      "“However, should evidence of criminality or safeguarding issues be identified at any point in future then they will be investigated.”\n",
      "\n",
      "Presenter’s wife’s statement in full\n",
      "\n",
      "Edwards with his wife, Vicky Flind NOBLE/DRAPER / SPLASHNEWS.COM\n",
      "\n",
      "Vicky Flind, Edwards’s wife, said that the news reader was “suffering from serious mental health issues” and is now “receiving inpatient hospital care where he will stay for the foreseeable future” as she asked for privacy for her family.\n",
      "\n",
      "She added: “The events of the last few days have greatly worsened matters, he has suffered another serious episode and is now receiving in-patient hospital care where he’ll stay for the foreseeable future.\n",
      "\n",
      "“Once well enough to do so, he intends to respond to the stories that have been published.\n",
      "\n",
      "“To be clear Huw was first told that there were allegations being made against him last Thursday.\n",
      "\n",
      "“In the circumstances and given Huw’s condition I would like to ask that the privacy of my family and everyone else caught up in these upsetting events is respected. I know that Huw is deeply sorry that so many colleagues have been impacted by the recent media speculation. We hope this statement will bring that to an end.”\n",
      "\n",
      "Friends and family call for privacy\n",
      "\n",
      "Huw was first told that there were allegations being made against him last Thursday CHRIS FAIRWEATHER/HUW EVANS/REX FEATURES\n",
      "\n",
      "Former BBC employees have called for the privacy of Huw Edwards and his family to be respected (Seren Hughes writes).\n",
      "\n",
      "Jon Sopel, a long-standing friend of Edwards, wrote on Twitter: “This is an awful and shocking episode, where there was no criminality, but perhaps a complicated private life. That doesn’t feel very private now. I hope that will give some cause to reflect. They really need to. I wish @thehuwedwards well.”\n",
      "\n",
      "Craig Oliver, a former director of communications for No 10 and editor of the BBC’s TV news, added that Edwards’ wife was “a hugely respected figure in broadcasting” and her privacy should be respected.\n",
      "\n",
      "“Vicky Flind — who is married to Huw Edwards — is a hugely respected figure in broadcasting,” Oliver wrote on Twitter. “As the Metropolitan police say there is no evidence of law breaking, we should respect her call for privacy for her family, knowing we will soon hear the full story.”\n",
      "\n",
      "Flind is an executive producer at Multistory TV and executive editor of Peston.\n",
      "\n",
      "Met Police rule out an investigation\n",
      "\n",
      "The Met Police have ruled out an investigation into the presenter.\n",
      "\n",
      "After a three-day scoping inquiry the force has found that no evidence of a criminal offence involving the high-profile presenter and a young person took place.\n",
      "\n",
      "It said that it had spoken to a number of parties including the BBC, the alleged complainant and their family, via another police force.\n",
      "\n",
      "“We are aware of media reporting of further allegations against the same individual. No specific details or information about these allegations have been passed to us and therefore there is no police action at this time,” it said in a statement.\n",
      "\n",
      "“Should evidence of criminality or safeguarding issues be identified at any point we would expect matters to be referred to the relevant police force.”\n"
     ]
    }
   ],
   "source": [
    "import newspaper\n",
    "\n",
    "def extract_article_content(url):\n",
    "    # Initialize the Newspaper3k Article object\n",
    "    article = newspaper.Article(url)\n",
    "\n",
    "    # Download and parse the article\n",
    "    article.download()\n",
    "    article.parse()\n",
    "\n",
    "    # Return the article content\n",
    "    return article.text\n",
    "\n",
    "# Provide the URL of the article\n",
    "article_url = \"https://www.thetimes.co.uk/article/huw-edwards-wife-bbc-presenter-investigation-latest-news-33z03bjdr\"\n",
    "\n",
    "# Extract the article content\n",
    "article_content = extract_article_content(article_url)\n",
    "\n",
    "print(\"Article Content:\")\n",
    "print(article_content)\n"
   ]
  },
  {
   "cell_type": "code",
   "execution_count": 11,
   "id": "77ccb4e4",
   "metadata": {},
   "outputs": [
    {
     "name": "stdout",
     "output_type": "stream",
     "text": [
      "Answer: personal tragedy\n",
      "Confidence: 0.5732545256614685\n"
     ]
    }
   ],
   "source": [
    "\n",
    "question = \"What is the main topic of the article?\"\n",
    "\n",
    "\n",
    "\n",
    "# Perform question answering on the article\n",
    "result = qa_pipeline({\n",
    "    \"context\": article_content,\n",
    "    \"question\": question\n",
    "})\n",
    "\n",
    "# Extract the answer and its score\n",
    "answer = result[\"answer\"]\n",
    "confidence = result[\"score\"]\n",
    "\n",
    "print(\"Answer:\", answer)\n",
    "print(\"Confidence:\", confidence)\n"
   ]
  },
  {
   "cell_type": "code",
   "execution_count": null,
   "id": "bba0572c",
   "metadata": {},
   "outputs": [],
   "source": []
  }
 ],
 "metadata": {
  "kernelspec": {
   "display_name": "Python 3",
   "language": "python",
   "name": "python3"
  },
  "language_info": {
   "codemirror_mode": {
    "name": "ipython",
    "version": 3
   },
   "file_extension": ".py",
   "mimetype": "text/x-python",
   "name": "python",
   "nbconvert_exporter": "python",
   "pygments_lexer": "ipython3",
   "version": "3.6.15"
  }
 },
 "nbformat": 4,
 "nbformat_minor": 5
}
